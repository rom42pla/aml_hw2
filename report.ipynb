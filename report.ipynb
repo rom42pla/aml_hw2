{
 "cells": [
  {
   "cell_type": "markdown",
   "metadata": {},
   "source": [
    "# Question 2"
   ]
  },
  {
   "cell_type": "markdown",
   "metadata": {},
   "source": [
    "# Point a\n",
    "\n",
    "\\begin{align}\n",
    "J(\\theta) &= \\frac{1}{N} \\sum_{i=1}^{N}{-\\log{(a^{(3)})}}\\\\\n",
    "&= \\frac{1}{N} \\sum_{i=1}^{N}{\\log{\\bigl(\\frac{1}{a^{(3)}}\\bigr)}}\n",
    "\\end{align}\n",
    "\n",
    "\\begin{align}\n",
    "\\frac{\\partial J}{\\partial z_i^{(3)}} &= \\frac{1}{N}\\sum_{i=1}^{N}\\frac{\\partial}{\\partial z_i^{(3)}}{\\log{\\bigl(\\frac{1}{a^{(3)}}\\bigr)}}\\\\\n",
    "&=\\frac{1}{N}\\sum_{i=1}^{N}a^{(3)} \\Biggl[\\frac{-\\frac{\\partial}{\\partial z_i^{(3)}} a^{(3)}}{(a^{(3)^2})} \\Biggr] \\\\\n",
    "&=\\frac{1}{N}\\sum_{i=1}^{N} \\frac{1}{a^{(3)}} \\Bigl[-\\frac{\\partial}{\\partial z_i^{(3)}} a^{(3)}\\Bigr] \\\\\n",
    "&= \\sum_{i=1}^{N}{-\\frac{1}{N} \\frac{1}{a^{(3)}}\\psi'(z_i^{(3)}) \\mathbf{1}_i} \\\\\n",
    "&= \\sum_{i=1}^{N}{-\\frac{1}{N} \\frac{1}{a^{(3)}} a^{(3)} (\\delta_{i,y_i} - a^{(3)}) \\mathbf{1}_i}\\\\\n",
    "&= \\frac{1}{N} (a^{(3)} - \\delta_{i,y_i})\\\\\n",
    "&= \\frac{1}{N}(\\psi(z_i^{(3)}- \\delta_{i,y_i})\n",
    "\\end{align}\n",
    "\n",
    "dove la derivata della funzione softmax è data da \n",
    "\n",
    "\\begin{align}\n",
    "\\psi'(u_i) &= \\frac{\\partial}{\\partial u_i}{\\frac{e^{u_i}}{\\sum_{j=1}e^{u_j}}} \\\\\n",
    "&= {\\frac{e^{u_i}\\sum_{j=1}(e^{u_j}-e^{u_i})}{\\bigl[\\sum_{j=1}e^{u_j}\\bigr]^2}} \\\\\n",
    "&= \\frac{e^{u_i}}{\\sum_{j=1}e^{u_j}} \\frac{\\sum_{j=1}e^{u_j}-e^{u_i}}{\\sum_{j=1}e^{u_j}} \\\\\n",
    "&= \\frac{e^{u_i}}{\\sum_{j=1}e^{u_j}}\\Biggl( \\frac{\\sum_{j=1}e^{u_j}}{\\sum_{j=1}e^{u_j}} - \\frac{e^{u_i}}{\\sum_{j=1}e^{u_j}}\\Biggl)  \\\\\n",
    "&= \\frac{e^{u_i}}{\\sum_{j=1}e^{u_j}}\\Biggl( \\delta_{i,j} - \\frac{e^{u_i}}{\\sum_{j=1}e^{u_j}}\\Biggl)  \\\\\n",
    "&= \\psi(u_i)(\\delta_{i,j}-\\psi(u_i))\n",
    "\\end{align}"
   ]
  },
  {
   "cell_type": "markdown",
   "metadata": {},
   "source": [
    "# a)"
   ]
  },
  {
   "cell_type": "markdown",
   "metadata": {},
   "source": [
    "\\begin{equation} \\label{eq1}\n",
    "\\begin{split}\n",
    "a^{(1)} & = x \\\\\n",
    "z^{(2)} & = W^{(1)} \\cdot a^{(1)} + b^{(1)} \\\\\n",
    "a^{(2)} & = \\phi(z^{(2)}) \\\\\n",
    "z^{(3)} & = W^{(2)} \\cdot a^{(2)} + b^{(2)} \\\\\n",
    "a^{(3)} & = \\psi(z^{(3)}) \\\\\n",
    "\\end{split}\n",
    "\\end{equation}"
   ]
  },
  {
   "cell_type": "markdown",
   "metadata": {},
   "source": [
    "\\begin{equation} \\label{eq1}\n",
    "\\begin{split}\n",
    "\\frac{\\partial J}{\\partial W_{kj}^{(1)}} & = \\sum_{i=1}^N\n",
    "\\frac{\\partial J}{\\partial z_{i}^{(3)}} \\cdot \\frac{\\partial z_{i}^{(3)}}{\\partial W_{kj}^{(1)}}\\\\\n",
    " & =  \\sum_{i=1}^N\n",
    " \\frac{1}{N} (\\psi(z^{(3)}) - \\delta_{iy_i}) \\cdot W_{ji}^{(2)} \\cdot\n",
    " \\phi(\\sum_{k=1}^m)W_{kj}^{(1)} \\cdot a_{kj}^{(1)} + b_{kj}^{(1)}) \\cdot a_{1,k}^{(1)}\\\\\n",
    "\\end{split}\n",
    "\\end{equation}"
   ]
  },
  {
   "cell_type": "markdown",
   "metadata": {},
   "source": [
    "\\begin{equation} \\label{eq1}\n",
    "\\begin{split}\n",
    "\\frac{\\partial J}{\\partial W^{(1)}} & = [[\n",
    " (\\frac{1}{N} (\\psi(z^{(3)}) - \\delta_{iy_i})^T \\cdot xW^{(2)}) \\cdot\n",
    " \\phi(z^{(2)})]^T \\cdot xa^{(1)}]^T \\\\\n",
    "\\frac{\\partial \\tilde{J}}{\\partial W^{(1)}} & = \\frac{\\partial J}{\\partial W^{(1)}} + 2\\lambda W^{(1)} \\\\\n",
    "\\end{split}\n",
    "\\end{equation}"
   ]
  },
  {
   "cell_type": "markdown",
   "metadata": {},
   "source": [
    "\\begin{equation} \\label{eq1}\n",
    "\\begin{split}\n",
    "\\frac{\\partial J}{\\partial W_{kj}^{(2)}} & = \\sum_{i=1}^N\n",
    "\\frac{\\partial J}{\\partial z_{i}^{(3)}} \\cdot \\frac{\\partial z_{i}^{(3)}}{\\partial W_{kj}^{(2)}}\\\\\n",
    " & =  \\sum_{i=1}^N\n",
    " \\frac{1}{N} (\\psi(z^{(3)}) - \\delta_{iy_i}) \\cdot W_{ji}^{(2)} \\cdot a_{1,k}^{(2)}\\\\\n",
    "\\end{split}\n",
    "\\end{equation}"
   ]
  },
  {
   "cell_type": "markdown",
   "metadata": {},
   "source": [
    "\\begin{equation} \\label{eq1}\n",
    "\\begin{split}\n",
    "\\frac{\\partial J}{\\partial W^{(2)}} & = [\\frac{1}{N} (\\psi(z^{(3)}) - \\delta)^T \\cdot xa^{(2)}]^T \\\\\n",
    "\\frac{\\partial \\tilde{J}}{\\partial W^{(1)}} & = \\frac{\\partial J}{\\partial W^{(1)}} + 2\\lambda W^{(2)} \\\\\n",
    "\\end{split}\n",
    "\\end{equation}"
   ]
  },
  {
   "cell_type": "markdown",
   "metadata": {},
   "source": [
    "# Question 4"
   ]
  },
  {
   "cell_type": "markdown",
   "metadata": {},
   "source": [
    "## c)"
   ]
  },
  {
   "cell_type": "markdown",
   "metadata": {},
   "source": [
    "### Imports"
   ]
  },
  {
   "cell_type": "code",
   "execution_count": 1,
   "metadata": {},
   "outputs": [],
   "source": [
    "import time\n",
    "import json\n",
    "import random\n",
    "from itertools import product\n",
    "\n",
    "import torch\n",
    "import torch.nn as nn\n",
    "import torch.nn.functional as F\n",
    "import torchvision\n",
    "import torchvision.transforms as transforms\n",
    "\n",
    "\n",
    "def weights_init(m):\n",
    "    if type(m) == nn.Linear:\n",
    "        m.weight.data.normal_(0.0, 1e-3)\n",
    "        m.bias.data.fill_(0.)\n",
    "\n",
    "\n",
    "def update_lr(optimizer, lr):\n",
    "    for param_group in optimizer.param_groups:\n",
    "        param_group['lr'] = lr"
   ]
  },
  {
   "cell_type": "markdown",
   "metadata": {},
   "source": [
    "### Parameters' configuration"
   ]
  },
  {
   "cell_type": "code",
   "execution_count": 2,
   "metadata": {},
   "outputs": [
    {
     "name": "stdout",
     "output_type": "stream",
     "text": [
      "Using device: cuda\n"
     ]
    }
   ],
   "source": [
    "device = torch.device('cuda' if torch.cuda.is_available() else 'cpu')\n",
    "print('Using device: %s' % device)\n",
    "\n",
    "tests_json_filepath = \"./pytorch_accuracies.json\"\n",
    "input_size = 32 * 32 * 3\n",
    "hidden_size = [50]\n",
    "num_classes = 10\n",
    "num_epochs = 10\n",
    "batch_size = 200\n",
    "learning_rate = 1e-3\n",
    "learning_rate_decay = 0.95\n",
    "reg = 0.001\n",
    "num_training = 49000\n",
    "num_validation = 1000\n",
    "train = False"
   ]
  },
  {
   "cell_type": "markdown",
   "metadata": {},
   "source": [
    "### Dataset loading"
   ]
  },
  {
   "cell_type": "code",
   "execution_count": 3,
   "metadata": {},
   "outputs": [
    {
     "name": "stdout",
     "output_type": "stream",
     "text": [
      "Files already downloaded and verified\n"
     ]
    }
   ],
   "source": [
    "norm_transform = transforms.Compose([transforms.ToTensor(),\n",
    "                                     transforms.Normalize((0.5, 0.5, 0.5), (0.5, 0.5, 0.5))\n",
    "                                     ])\n",
    "cifar_dataset = torchvision.datasets.CIFAR10(root='datasets/',\n",
    "                                             train=True,\n",
    "                                             transform=norm_transform,\n",
    "                                             download=True)\n",
    "\n",
    "test_dataset = torchvision.datasets.CIFAR10(root='datasets/',\n",
    "                                            train=False,\n",
    "                                            transform=norm_transform\n",
    "                                            )\n",
    "# -------------------------------------------------\n",
    "# Prepare the training and validation splits\n",
    "# -------------------------------------------------\n",
    "mask = list(range(num_training))\n",
    "train_dataset = torch.utils.data.Subset(cifar_dataset, mask)\n",
    "mask = list(range(num_training, num_training + num_validation))\n",
    "val_dataset = torch.utils.data.Subset(cifar_dataset, mask)\n",
    "\n",
    "# -------------------------------------------------\n",
    "# Data loader\n",
    "# -------------------------------------------------\n",
    "train_loader = torch.utils.data.DataLoader(dataset=train_dataset,\n",
    "                                           batch_size=batch_size,\n",
    "                                           shuffle=True)\n",
    "\n",
    "val_loader = torch.utils.data.DataLoader(dataset=val_dataset,\n",
    "                                         batch_size=batch_size,\n",
    "                                         shuffle=False)\n",
    "\n",
    "test_loader = torch.utils.data.DataLoader(dataset=test_dataset,\n",
    "                                          batch_size=batch_size,\n",
    "                                          shuffle=False)"
   ]
  },
  {
   "cell_type": "markdown",
   "metadata": {},
   "source": [
    "### Generic MLP model definition"
   ]
  },
  {
   "cell_type": "code",
   "execution_count": 4,
   "metadata": {},
   "outputs": [],
   "source": [
    "class MultiLayerPerceptron(nn.Module):\n",
    "    def __init__(self, input_size, hidden_layers, num_classes):\n",
    "        super(MultiLayerPerceptron, self).__init__()\n",
    "\n",
    "        layers = []\n",
    "        \n",
    "        # batch normalization and dropout\n",
    "        layers += [nn.BatchNorm1d(input_size)]\n",
    "        \n",
    "        # hidden layers\n",
    "        for i_layer, layer in enumerate(hidden_layers):\n",
    "            # add the layer to the sequence\n",
    "            layers += [nn.Linear(input_size if i_layer == 0 else hidden_layers[i_layer - 1], layer),\n",
    "                       nn.ReLU()]\n",
    "        # final layer without softmax, as it is included into crossentropy loss\n",
    "        layers += [nn.Linear(hidden_layers[-1], num_classes)]\n",
    "\n",
    "        self.layers = nn.Sequential(*layers)\n",
    "\n",
    "    def forward(self, x):\n",
    "        out = self.layers(x)\n",
    "        \n",
    "        # adds the softmax only if we don't have to calculate the loss\n",
    "        if not self.training:\n",
    "            out = F.softmax(out, dim=-1)\n",
    "\n",
    "        return out"
   ]
  },
  {
   "cell_type": "markdown",
   "metadata": {},
   "source": [
    "### Tests"
   ]
  },
  {
   "cell_type": "code",
   "execution_count": 6,
   "metadata": {},
   "outputs": [
    {
     "name": "stdout",
     "output_type": "stream",
     "text": [
      "Trying a MLP with 2 hidden layers:\n",
      "\t3072 --> 44 --> 10\n",
      "Elapsed time: 87 seconds\n",
      "Accuracies: [44.3, 46.1, 46.9, 48.0, 49.1, 49.5, 49.6, 49.4, 50.2, 51.8] (51.8 max)\n",
      "###################################################################################\n",
      "\n",
      "Trying a MLP with 2 hidden layers:\n",
      "\t3072 --> 45 --> 10\n",
      "Elapsed time: 88 seconds\n",
      "Accuracies: [44.7, 47.1, 47.8, 49.5, 49.8, 49.8, 50.0, 49.7, 49.3, 49.5] (50.0 max)\n",
      "###################################################################################\n",
      "\n",
      "Trying a MLP with 2 hidden layers:\n",
      "\t3072 --> 44 --> 10\n",
      "Elapsed time: 87 seconds\n",
      "Accuracies: [44.9, 46.3, 47.5, 49.0, 50.0, 48.6, 49.1, 49.8, 49.4, 51.5] (51.5 max)\n",
      "###################################################################################\n",
      "\n",
      "Trying a MLP with 3 hidden layers:\n",
      "\t3072 --> 73 --> 73 --> 10\n",
      "Elapsed time: 94 seconds\n",
      "Accuracies: [39.8, 45.6, 49.0, 49.0, 50.3, 49.9, 49.8, 50.9, 53.1, 51.6] (53.1 max)\n",
      "###################################################################################\n",
      "\n",
      "Trying a MLP with 3 hidden layers:\n",
      "\t3072 --> 34 --> 34 --> 10\n",
      "Elapsed time: 93 seconds\n",
      "Accuracies: [37.1, 43.8, 46.3, 47.3, 47.9, 49.2, 48.9, 49.2, 50.2, 49.7] (50.2 max)\n",
      "###################################################################################\n",
      "\n",
      "Trying a MLP with 3 hidden layers:\n",
      "\t3072 --> 34 --> 34 --> 10\n",
      "Elapsed time: 93 seconds\n",
      "Accuracies: [34.2, 42.7, 44.7, 45.4, 46.4, 47.5, 48.3, 49.3, 48.4, 48.0] (49.3 max)\n",
      "###################################################################################\n",
      "\n",
      "Trying a MLP with 4 hidden layers:\n",
      "\t3072 --> 31 --> 31 --> 31 --> 10\n",
      "Elapsed time: 95 seconds\n",
      "Accuracies: [7.9, 7.8, 7.8, 7.9, 8.7, 8.7, 7.9, 7.9, 7.9, 7.9] (8.7 max)\n",
      "########################################################################\n",
      "\n",
      "Trying a MLP with 4 hidden layers:\n",
      "\t3072 --> 39 --> 39 --> 39 --> 10\n",
      "Elapsed time: 98 seconds\n",
      "Accuracies: [10.7, 7.8, 7.9, 7.9, 7.9, 8.7, 7.9, 8.7, 7.9, 7.9] (10.7 max)\n",
      "##########################################################################\n",
      "\n",
      "Trying a MLP with 4 hidden layers:\n",
      "\t3072 --> 39 --> 39 --> 39 --> 10\n",
      "Elapsed time: 106 seconds\n",
      "Accuracies: [10.5, 7.8, 7.9, 11.3, 7.9, 7.8, 7.8, 7.9, 7.8, 7.9] (11.3 max)\n",
      "###########################################################################\n",
      "\n",
      "Trying a MLP with 5 hidden layers:\n",
      "\t3072 --> 86 --> 86 --> 86 --> 86 --> 10\n",
      "Elapsed time: 97 seconds\n",
      "Accuracies: [7.9, 7.9, 7.9, 7.9, 7.8, 7.9, 7.8, 7.8, 7.8, 7.9] (7.9 max)\n",
      "########################################################################\n",
      "\n",
      "Trying a MLP with 5 hidden layers:\n",
      "\t3072 --> 95 --> 95 --> 95 --> 95 --> 10\n"
     ]
    },
    {
     "ename": "KeyboardInterrupt",
     "evalue": "",
     "output_type": "error",
     "traceback": [
      "\u001b[0;31m---------------------------------------------------------------------------\u001b[0m",
      "\u001b[0;31mKeyboardInterrupt\u001b[0m                         Traceback (most recent call last)",
      "\u001b[0;32m<ipython-input-6-47a2c380c7a6>\u001b[0m in \u001b[0;36m<module>\u001b[0;34m\u001b[0m\n\u001b[1;32m     25\u001b[0m         \u001b[0mtotal_step\u001b[0m \u001b[0;34m=\u001b[0m \u001b[0mlen\u001b[0m\u001b[0;34m(\u001b[0m\u001b[0mtrain_loader\u001b[0m\u001b[0;34m)\u001b[0m\u001b[0;34m\u001b[0m\u001b[0;34m\u001b[0m\u001b[0m\n\u001b[1;32m     26\u001b[0m         \u001b[0;32mfor\u001b[0m \u001b[0mepoch\u001b[0m \u001b[0;32min\u001b[0m \u001b[0mrange\u001b[0m\u001b[0;34m(\u001b[0m\u001b[0mnum_epochs\u001b[0m\u001b[0;34m)\u001b[0m\u001b[0;34m:\u001b[0m\u001b[0;34m\u001b[0m\u001b[0;34m\u001b[0m\u001b[0m\n\u001b[0;32m---> 27\u001b[0;31m             \u001b[0;32mfor\u001b[0m \u001b[0mi\u001b[0m\u001b[0;34m,\u001b[0m \u001b[0;34m(\u001b[0m\u001b[0mimages\u001b[0m\u001b[0;34m,\u001b[0m \u001b[0mlabels\u001b[0m\u001b[0;34m)\u001b[0m \u001b[0;32min\u001b[0m \u001b[0menumerate\u001b[0m\u001b[0;34m(\u001b[0m\u001b[0mtrain_loader\u001b[0m\u001b[0;34m)\u001b[0m\u001b[0;34m:\u001b[0m\u001b[0;34m\u001b[0m\u001b[0;34m\u001b[0m\u001b[0m\n\u001b[0m\u001b[1;32m     28\u001b[0m                 \u001b[0mimages\u001b[0m \u001b[0;34m=\u001b[0m \u001b[0mimages\u001b[0m\u001b[0;34m.\u001b[0m\u001b[0mto\u001b[0m\u001b[0;34m(\u001b[0m\u001b[0mdevice\u001b[0m\u001b[0;34m)\u001b[0m\u001b[0;34m\u001b[0m\u001b[0;34m\u001b[0m\u001b[0m\n\u001b[1;32m     29\u001b[0m                 \u001b[0mlabels\u001b[0m \u001b[0;34m=\u001b[0m \u001b[0mlabels\u001b[0m\u001b[0;34m.\u001b[0m\u001b[0mto\u001b[0m\u001b[0;34m(\u001b[0m\u001b[0mdevice\u001b[0m\u001b[0;34m)\u001b[0m\u001b[0;34m\u001b[0m\u001b[0;34m\u001b[0m\u001b[0m\n",
      "\u001b[0;32m~/anaconda3/lib/python3.7/site-packages/torch/utils/data/dataloader.py\u001b[0m in \u001b[0;36m__next__\u001b[0;34m(self)\u001b[0m\n\u001b[1;32m    433\u001b[0m         \u001b[0;32mif\u001b[0m \u001b[0mself\u001b[0m\u001b[0;34m.\u001b[0m\u001b[0m_sampler_iter\u001b[0m \u001b[0;32mis\u001b[0m \u001b[0;32mNone\u001b[0m\u001b[0;34m:\u001b[0m\u001b[0;34m\u001b[0m\u001b[0;34m\u001b[0m\u001b[0m\n\u001b[1;32m    434\u001b[0m             \u001b[0mself\u001b[0m\u001b[0;34m.\u001b[0m\u001b[0m_reset\u001b[0m\u001b[0;34m(\u001b[0m\u001b[0;34m)\u001b[0m\u001b[0;34m\u001b[0m\u001b[0;34m\u001b[0m\u001b[0m\n\u001b[0;32m--> 435\u001b[0;31m         \u001b[0mdata\u001b[0m \u001b[0;34m=\u001b[0m \u001b[0mself\u001b[0m\u001b[0;34m.\u001b[0m\u001b[0m_next_data\u001b[0m\u001b[0;34m(\u001b[0m\u001b[0;34m)\u001b[0m\u001b[0;34m\u001b[0m\u001b[0;34m\u001b[0m\u001b[0m\n\u001b[0m\u001b[1;32m    436\u001b[0m         \u001b[0mself\u001b[0m\u001b[0;34m.\u001b[0m\u001b[0m_num_yielded\u001b[0m \u001b[0;34m+=\u001b[0m \u001b[0;36m1\u001b[0m\u001b[0;34m\u001b[0m\u001b[0;34m\u001b[0m\u001b[0m\n\u001b[1;32m    437\u001b[0m         \u001b[0;32mif\u001b[0m \u001b[0mself\u001b[0m\u001b[0;34m.\u001b[0m\u001b[0m_dataset_kind\u001b[0m \u001b[0;34m==\u001b[0m \u001b[0m_DatasetKind\u001b[0m\u001b[0;34m.\u001b[0m\u001b[0mIterable\u001b[0m \u001b[0;32mand\u001b[0m\u001b[0;31m \u001b[0m\u001b[0;31m\\\u001b[0m\u001b[0;34m\u001b[0m\u001b[0;34m\u001b[0m\u001b[0m\n",
      "\u001b[0;32m~/anaconda3/lib/python3.7/site-packages/torch/utils/data/dataloader.py\u001b[0m in \u001b[0;36m_next_data\u001b[0;34m(self)\u001b[0m\n\u001b[1;32m    473\u001b[0m     \u001b[0;32mdef\u001b[0m \u001b[0m_next_data\u001b[0m\u001b[0;34m(\u001b[0m\u001b[0mself\u001b[0m\u001b[0;34m)\u001b[0m\u001b[0;34m:\u001b[0m\u001b[0;34m\u001b[0m\u001b[0;34m\u001b[0m\u001b[0m\n\u001b[1;32m    474\u001b[0m         \u001b[0mindex\u001b[0m \u001b[0;34m=\u001b[0m \u001b[0mself\u001b[0m\u001b[0;34m.\u001b[0m\u001b[0m_next_index\u001b[0m\u001b[0;34m(\u001b[0m\u001b[0;34m)\u001b[0m  \u001b[0;31m# may raise StopIteration\u001b[0m\u001b[0;34m\u001b[0m\u001b[0;34m\u001b[0m\u001b[0m\n\u001b[0;32m--> 475\u001b[0;31m         \u001b[0mdata\u001b[0m \u001b[0;34m=\u001b[0m \u001b[0mself\u001b[0m\u001b[0;34m.\u001b[0m\u001b[0m_dataset_fetcher\u001b[0m\u001b[0;34m.\u001b[0m\u001b[0mfetch\u001b[0m\u001b[0;34m(\u001b[0m\u001b[0mindex\u001b[0m\u001b[0;34m)\u001b[0m  \u001b[0;31m# may raise StopIteration\u001b[0m\u001b[0;34m\u001b[0m\u001b[0;34m\u001b[0m\u001b[0m\n\u001b[0m\u001b[1;32m    476\u001b[0m         \u001b[0;32mif\u001b[0m \u001b[0mself\u001b[0m\u001b[0;34m.\u001b[0m\u001b[0m_pin_memory\u001b[0m\u001b[0;34m:\u001b[0m\u001b[0;34m\u001b[0m\u001b[0;34m\u001b[0m\u001b[0m\n\u001b[1;32m    477\u001b[0m             \u001b[0mdata\u001b[0m \u001b[0;34m=\u001b[0m \u001b[0m_utils\u001b[0m\u001b[0;34m.\u001b[0m\u001b[0mpin_memory\u001b[0m\u001b[0;34m.\u001b[0m\u001b[0mpin_memory\u001b[0m\u001b[0;34m(\u001b[0m\u001b[0mdata\u001b[0m\u001b[0;34m)\u001b[0m\u001b[0;34m\u001b[0m\u001b[0;34m\u001b[0m\u001b[0m\n",
      "\u001b[0;32m~/anaconda3/lib/python3.7/site-packages/torch/utils/data/_utils/fetch.py\u001b[0m in \u001b[0;36mfetch\u001b[0;34m(self, possibly_batched_index)\u001b[0m\n\u001b[1;32m     42\u001b[0m     \u001b[0;32mdef\u001b[0m \u001b[0mfetch\u001b[0m\u001b[0;34m(\u001b[0m\u001b[0mself\u001b[0m\u001b[0;34m,\u001b[0m \u001b[0mpossibly_batched_index\u001b[0m\u001b[0;34m)\u001b[0m\u001b[0;34m:\u001b[0m\u001b[0;34m\u001b[0m\u001b[0;34m\u001b[0m\u001b[0m\n\u001b[1;32m     43\u001b[0m         \u001b[0;32mif\u001b[0m \u001b[0mself\u001b[0m\u001b[0;34m.\u001b[0m\u001b[0mauto_collation\u001b[0m\u001b[0;34m:\u001b[0m\u001b[0;34m\u001b[0m\u001b[0;34m\u001b[0m\u001b[0m\n\u001b[0;32m---> 44\u001b[0;31m             \u001b[0mdata\u001b[0m \u001b[0;34m=\u001b[0m \u001b[0;34m[\u001b[0m\u001b[0mself\u001b[0m\u001b[0;34m.\u001b[0m\u001b[0mdataset\u001b[0m\u001b[0;34m[\u001b[0m\u001b[0midx\u001b[0m\u001b[0;34m]\u001b[0m \u001b[0;32mfor\u001b[0m \u001b[0midx\u001b[0m \u001b[0;32min\u001b[0m \u001b[0mpossibly_batched_index\u001b[0m\u001b[0;34m]\u001b[0m\u001b[0;34m\u001b[0m\u001b[0;34m\u001b[0m\u001b[0m\n\u001b[0m\u001b[1;32m     45\u001b[0m         \u001b[0;32melse\u001b[0m\u001b[0;34m:\u001b[0m\u001b[0;34m\u001b[0m\u001b[0;34m\u001b[0m\u001b[0m\n\u001b[1;32m     46\u001b[0m             \u001b[0mdata\u001b[0m \u001b[0;34m=\u001b[0m \u001b[0mself\u001b[0m\u001b[0;34m.\u001b[0m\u001b[0mdataset\u001b[0m\u001b[0;34m[\u001b[0m\u001b[0mpossibly_batched_index\u001b[0m\u001b[0;34m]\u001b[0m\u001b[0;34m\u001b[0m\u001b[0;34m\u001b[0m\u001b[0m\n",
      "\u001b[0;32m~/anaconda3/lib/python3.7/site-packages/torch/utils/data/_utils/fetch.py\u001b[0m in \u001b[0;36m<listcomp>\u001b[0;34m(.0)\u001b[0m\n\u001b[1;32m     42\u001b[0m     \u001b[0;32mdef\u001b[0m \u001b[0mfetch\u001b[0m\u001b[0;34m(\u001b[0m\u001b[0mself\u001b[0m\u001b[0;34m,\u001b[0m \u001b[0mpossibly_batched_index\u001b[0m\u001b[0;34m)\u001b[0m\u001b[0;34m:\u001b[0m\u001b[0;34m\u001b[0m\u001b[0;34m\u001b[0m\u001b[0m\n\u001b[1;32m     43\u001b[0m         \u001b[0;32mif\u001b[0m \u001b[0mself\u001b[0m\u001b[0;34m.\u001b[0m\u001b[0mauto_collation\u001b[0m\u001b[0;34m:\u001b[0m\u001b[0;34m\u001b[0m\u001b[0;34m\u001b[0m\u001b[0m\n\u001b[0;32m---> 44\u001b[0;31m             \u001b[0mdata\u001b[0m \u001b[0;34m=\u001b[0m \u001b[0;34m[\u001b[0m\u001b[0mself\u001b[0m\u001b[0;34m.\u001b[0m\u001b[0mdataset\u001b[0m\u001b[0;34m[\u001b[0m\u001b[0midx\u001b[0m\u001b[0;34m]\u001b[0m \u001b[0;32mfor\u001b[0m \u001b[0midx\u001b[0m \u001b[0;32min\u001b[0m \u001b[0mpossibly_batched_index\u001b[0m\u001b[0;34m]\u001b[0m\u001b[0;34m\u001b[0m\u001b[0;34m\u001b[0m\u001b[0m\n\u001b[0m\u001b[1;32m     45\u001b[0m         \u001b[0;32melse\u001b[0m\u001b[0;34m:\u001b[0m\u001b[0;34m\u001b[0m\u001b[0;34m\u001b[0m\u001b[0m\n\u001b[1;32m     46\u001b[0m             \u001b[0mdata\u001b[0m \u001b[0;34m=\u001b[0m \u001b[0mself\u001b[0m\u001b[0;34m.\u001b[0m\u001b[0mdataset\u001b[0m\u001b[0;34m[\u001b[0m\u001b[0mpossibly_batched_index\u001b[0m\u001b[0;34m]\u001b[0m\u001b[0;34m\u001b[0m\u001b[0;34m\u001b[0m\u001b[0m\n",
      "\u001b[0;32m~/anaconda3/lib/python3.7/site-packages/torch/utils/data/dataset.py\u001b[0m in \u001b[0;36m__getitem__\u001b[0;34m(self, idx)\u001b[0m\n\u001b[1;32m    270\u001b[0m \u001b[0;34m\u001b[0m\u001b[0m\n\u001b[1;32m    271\u001b[0m     \u001b[0;32mdef\u001b[0m \u001b[0m__getitem__\u001b[0m\u001b[0;34m(\u001b[0m\u001b[0mself\u001b[0m\u001b[0;34m,\u001b[0m \u001b[0midx\u001b[0m\u001b[0;34m)\u001b[0m\u001b[0;34m:\u001b[0m\u001b[0;34m\u001b[0m\u001b[0;34m\u001b[0m\u001b[0m\n\u001b[0;32m--> 272\u001b[0;31m         \u001b[0;32mreturn\u001b[0m \u001b[0mself\u001b[0m\u001b[0;34m.\u001b[0m\u001b[0mdataset\u001b[0m\u001b[0;34m[\u001b[0m\u001b[0mself\u001b[0m\u001b[0;34m.\u001b[0m\u001b[0mindices\u001b[0m\u001b[0;34m[\u001b[0m\u001b[0midx\u001b[0m\u001b[0;34m]\u001b[0m\u001b[0;34m]\u001b[0m\u001b[0;34m\u001b[0m\u001b[0;34m\u001b[0m\u001b[0m\n\u001b[0m\u001b[1;32m    273\u001b[0m \u001b[0;34m\u001b[0m\u001b[0m\n\u001b[1;32m    274\u001b[0m     \u001b[0;32mdef\u001b[0m \u001b[0m__len__\u001b[0m\u001b[0;34m(\u001b[0m\u001b[0mself\u001b[0m\u001b[0;34m)\u001b[0m\u001b[0;34m:\u001b[0m\u001b[0;34m\u001b[0m\u001b[0;34m\u001b[0m\u001b[0m\n",
      "\u001b[0;32m~/anaconda3/lib/python3.7/site-packages/torchvision/datasets/cifar.py\u001b[0m in \u001b[0;36m__getitem__\u001b[0;34m(self, index)\u001b[0m\n\u001b[1;32m    118\u001b[0m \u001b[0;34m\u001b[0m\u001b[0m\n\u001b[1;32m    119\u001b[0m         \u001b[0;32mif\u001b[0m \u001b[0mself\u001b[0m\u001b[0;34m.\u001b[0m\u001b[0mtransform\u001b[0m \u001b[0;32mis\u001b[0m \u001b[0;32mnot\u001b[0m \u001b[0;32mNone\u001b[0m\u001b[0;34m:\u001b[0m\u001b[0;34m\u001b[0m\u001b[0;34m\u001b[0m\u001b[0m\n\u001b[0;32m--> 120\u001b[0;31m             \u001b[0mimg\u001b[0m \u001b[0;34m=\u001b[0m \u001b[0mself\u001b[0m\u001b[0;34m.\u001b[0m\u001b[0mtransform\u001b[0m\u001b[0;34m(\u001b[0m\u001b[0mimg\u001b[0m\u001b[0;34m)\u001b[0m\u001b[0;34m\u001b[0m\u001b[0;34m\u001b[0m\u001b[0m\n\u001b[0m\u001b[1;32m    121\u001b[0m \u001b[0;34m\u001b[0m\u001b[0m\n\u001b[1;32m    122\u001b[0m         \u001b[0;32mif\u001b[0m \u001b[0mself\u001b[0m\u001b[0;34m.\u001b[0m\u001b[0mtarget_transform\u001b[0m \u001b[0;32mis\u001b[0m \u001b[0;32mnot\u001b[0m \u001b[0;32mNone\u001b[0m\u001b[0;34m:\u001b[0m\u001b[0;34m\u001b[0m\u001b[0;34m\u001b[0m\u001b[0m\n",
      "\u001b[0;32m~/anaconda3/lib/python3.7/site-packages/torchvision/transforms/transforms.py\u001b[0m in \u001b[0;36m__call__\u001b[0;34m(self, img)\u001b[0m\n\u001b[1;32m     65\u001b[0m     \u001b[0;32mdef\u001b[0m \u001b[0m__call__\u001b[0m\u001b[0;34m(\u001b[0m\u001b[0mself\u001b[0m\u001b[0;34m,\u001b[0m \u001b[0mimg\u001b[0m\u001b[0;34m)\u001b[0m\u001b[0;34m:\u001b[0m\u001b[0;34m\u001b[0m\u001b[0;34m\u001b[0m\u001b[0m\n\u001b[1;32m     66\u001b[0m         \u001b[0;32mfor\u001b[0m \u001b[0mt\u001b[0m \u001b[0;32min\u001b[0m \u001b[0mself\u001b[0m\u001b[0;34m.\u001b[0m\u001b[0mtransforms\u001b[0m\u001b[0;34m:\u001b[0m\u001b[0;34m\u001b[0m\u001b[0;34m\u001b[0m\u001b[0m\n\u001b[0;32m---> 67\u001b[0;31m             \u001b[0mimg\u001b[0m \u001b[0;34m=\u001b[0m \u001b[0mt\u001b[0m\u001b[0;34m(\u001b[0m\u001b[0mimg\u001b[0m\u001b[0;34m)\u001b[0m\u001b[0;34m\u001b[0m\u001b[0;34m\u001b[0m\u001b[0m\n\u001b[0m\u001b[1;32m     68\u001b[0m         \u001b[0;32mreturn\u001b[0m \u001b[0mimg\u001b[0m\u001b[0;34m\u001b[0m\u001b[0;34m\u001b[0m\u001b[0m\n\u001b[1;32m     69\u001b[0m \u001b[0;34m\u001b[0m\u001b[0m\n",
      "\u001b[0;32m~/anaconda3/lib/python3.7/site-packages/torchvision/transforms/transforms.py\u001b[0m in \u001b[0;36m__call__\u001b[0;34m(self, pic)\u001b[0m\n\u001b[1;32m    102\u001b[0m             \u001b[0mTensor\u001b[0m\u001b[0;34m:\u001b[0m \u001b[0mConverted\u001b[0m \u001b[0mimage\u001b[0m\u001b[0;34m.\u001b[0m\u001b[0;34m\u001b[0m\u001b[0;34m\u001b[0m\u001b[0m\n\u001b[1;32m    103\u001b[0m         \"\"\"\n\u001b[0;32m--> 104\u001b[0;31m         \u001b[0;32mreturn\u001b[0m \u001b[0mF\u001b[0m\u001b[0;34m.\u001b[0m\u001b[0mto_tensor\u001b[0m\u001b[0;34m(\u001b[0m\u001b[0mpic\u001b[0m\u001b[0;34m)\u001b[0m\u001b[0;34m\u001b[0m\u001b[0;34m\u001b[0m\u001b[0m\n\u001b[0m\u001b[1;32m    105\u001b[0m \u001b[0;34m\u001b[0m\u001b[0m\n\u001b[1;32m    106\u001b[0m     \u001b[0;32mdef\u001b[0m \u001b[0m__repr__\u001b[0m\u001b[0;34m(\u001b[0m\u001b[0mself\u001b[0m\u001b[0;34m)\u001b[0m\u001b[0;34m:\u001b[0m\u001b[0;34m\u001b[0m\u001b[0;34m\u001b[0m\u001b[0m\n",
      "\u001b[0;32m~/anaconda3/lib/python3.7/site-packages/torchvision/transforms/functional.py\u001b[0m in \u001b[0;36mto_tensor\u001b[0;34m(pic)\u001b[0m\n\u001b[1;32m    100\u001b[0m     \u001b[0mimg\u001b[0m \u001b[0;34m=\u001b[0m \u001b[0mimg\u001b[0m\u001b[0;34m.\u001b[0m\u001b[0mpermute\u001b[0m\u001b[0;34m(\u001b[0m\u001b[0;34m(\u001b[0m\u001b[0;36m2\u001b[0m\u001b[0;34m,\u001b[0m \u001b[0;36m0\u001b[0m\u001b[0;34m,\u001b[0m \u001b[0;36m1\u001b[0m\u001b[0;34m)\u001b[0m\u001b[0;34m)\u001b[0m\u001b[0;34m.\u001b[0m\u001b[0mcontiguous\u001b[0m\u001b[0;34m(\u001b[0m\u001b[0;34m)\u001b[0m\u001b[0;34m\u001b[0m\u001b[0;34m\u001b[0m\u001b[0m\n\u001b[1;32m    101\u001b[0m     \u001b[0;32mif\u001b[0m \u001b[0misinstance\u001b[0m\u001b[0;34m(\u001b[0m\u001b[0mimg\u001b[0m\u001b[0;34m,\u001b[0m \u001b[0mtorch\u001b[0m\u001b[0;34m.\u001b[0m\u001b[0mByteTensor\u001b[0m\u001b[0;34m)\u001b[0m\u001b[0;34m:\u001b[0m\u001b[0;34m\u001b[0m\u001b[0;34m\u001b[0m\u001b[0m\n\u001b[0;32m--> 102\u001b[0;31m         \u001b[0;32mreturn\u001b[0m \u001b[0mimg\u001b[0m\u001b[0;34m.\u001b[0m\u001b[0mfloat\u001b[0m\u001b[0;34m(\u001b[0m\u001b[0;34m)\u001b[0m\u001b[0;34m.\u001b[0m\u001b[0mdiv\u001b[0m\u001b[0;34m(\u001b[0m\u001b[0;36m255\u001b[0m\u001b[0;34m)\u001b[0m\u001b[0;34m\u001b[0m\u001b[0;34m\u001b[0m\u001b[0m\n\u001b[0m\u001b[1;32m    103\u001b[0m     \u001b[0;32melse\u001b[0m\u001b[0;34m:\u001b[0m\u001b[0;34m\u001b[0m\u001b[0;34m\u001b[0m\u001b[0m\n\u001b[1;32m    104\u001b[0m         \u001b[0;32mreturn\u001b[0m \u001b[0mimg\u001b[0m\u001b[0;34m\u001b[0m\u001b[0;34m\u001b[0m\u001b[0m\n",
      "\u001b[0;31mKeyboardInterrupt\u001b[0m: "
     ]
    }
   ],
   "source": [
    "tests_history = {}\n",
    "\n",
    "i_test = 0\n",
    "for layers_number in [2, 3, 4, 5, 8, 10]:\n",
    "    layers_combinations = list(product(list(random.sample(range(20, 101), k=5)), repeat=layers_number-1))\n",
    "    # tries just 3 combinations per typology\n",
    "    for hidden_size in random.choices(layers_combinations, k=3):\n",
    "        model = MultiLayerPerceptron(input_size, hidden_size, num_classes).to(device)\n",
    "        print(f\"Trying a MLP with {len(hidden_size)+1} hidden layers:\")\n",
    "        print(f\"\\t{input_size}\", end=\"\")\n",
    "        for size in hidden_size:\n",
    "            print(f\" --> {hidden_size[0]}\", end=\"\")\n",
    "        print(f\" --> {num_classes}\")\n",
    "        elapsed_time, accuracies = time.time(), []\n",
    "\n",
    "        model.apply(weights_init)\n",
    "        model.train()  # set dropout and batch normalization layers to training mode\n",
    "\n",
    "        # Loss and optimizer\n",
    "        criterion = nn.CrossEntropyLoss()\n",
    "        optimizer = torch.optim.Adam(model.parameters(), lr=learning_rate, weight_decay=reg)\n",
    "\n",
    "        # Train the model\n",
    "        lr = learning_rate\n",
    "        total_step = len(train_loader)\n",
    "        for epoch in range(num_epochs):\n",
    "            for i, (images, labels) in enumerate(train_loader):\n",
    "                images = images.to(device)\n",
    "                labels = labels.to(device)\n",
    "\n",
    "                optimizer.zero_grad()\n",
    "\n",
    "                predicted = model(torch.flatten(images, start_dim=1))\n",
    "\n",
    "                loss = criterion(predicted.squeeze(), labels)\n",
    "                loss.backward()\n",
    "                optimizer.step()\n",
    "\n",
    "            # Code to update the lr\n",
    "            lr *= learning_rate_decay\n",
    "            update_lr(optimizer, lr)\n",
    "            with torch.no_grad():\n",
    "                correct = 0\n",
    "                total = 0\n",
    "                for images, labels in val_loader:\n",
    "                    images = images.to(device)\n",
    "                    labels = labels.to(device)\n",
    "\n",
    "                    predicted = model(torch.flatten(images, start_dim=1))\n",
    "                    predicted = torch.argmax(predicted, dim=-1)\n",
    "\n",
    "                    total += labels.size(0)\n",
    "                    correct += (predicted == labels).sum().item()\n",
    "                accuracies += [100 * correct / total]\n",
    "\n",
    "        elapsed_time = time.time() - elapsed_time \n",
    "        print(f\"Elapsed time: {round(elapsed_time)} seconds\")\n",
    "        acc_string = f\"Accuracies: {accuracies} ({max(accuracies)} max)\"\n",
    "        print(f\"{acc_string}\\n{'#'*len(acc_string)}\\n\")\n",
    "        i_test += 1\n",
    "        \n",
    "        # writes results to a json file\n",
    "        tests_history[i_test] = {\n",
    "            \"layers_combination\": hidden_size,\n",
    "            \"accuracies\": accuracies,\n",
    "            \"model\": str(model.layers),\n",
    "            \"time\": elapsed_time\n",
    "        }\n",
    "        with open(tests_json_filepath, 'w') as fp:\n",
    "            json.dump(tests_history, fp, indent=4)"
   ]
  },
  {
   "cell_type": "markdown",
   "metadata": {},
   "source": [
    "### Results\n",
    "We've tried several models with $6$ different numbers of hidden layers ($2, 3, 4, 5, 8$ and $10$) and different numbers of neurons in each layer (using a discrete uniform $[20, 100]$); among all the possible combinations we've took just $3$ for each number of layers, for a total of $3 \\cdot 6 = 18$ combinations, in a random search fashion.\n",
    "\n",
    "We'll use $a_m$ to denote the maximum accuracy obtained during the evaluation of a particular model $m$.\n",
    "\n",
    "Besides the different number of hidden layers and neurons there are two main variations respect to the model presented, corresponding to two new layers: a batch normalization layer at the beginning of the chain which improves $a_m$ from $1$ to $3$ percentage points and dropout, which drops $a_m$ by $2$ to $4$ points."
   ]
  },
  {
   "cell_type": "code",
   "execution_count": null,
   "metadata": {},
   "outputs": [],
   "source": []
  }
 ],
 "metadata": {
  "kernelspec": {
   "display_name": "Python 3",
   "language": "python",
   "name": "python3"
  },
  "language_info": {
   "codemirror_mode": {
    "name": "ipython",
    "version": 3
   },
   "file_extension": ".py",
   "mimetype": "text/x-python",
   "name": "python",
   "nbconvert_exporter": "python",
   "pygments_lexer": "ipython3",
   "version": "3.7.9"
  }
 },
 "nbformat": 4,
 "nbformat_minor": 4
}
